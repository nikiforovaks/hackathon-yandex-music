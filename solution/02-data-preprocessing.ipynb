{
 "cells": [
  {
   "cell_type": "markdown",
   "id": "9e7e14cb",
   "metadata": {
    "toc": true
   },
   "source": [
    "<h1>Содержание<span class=\"tocSkip\"></span></h1>\n",
    "<div class=\"toc\"><ul class=\"toc-item\"><li><span><a href=\"#Импорт-необходимых-библиотек\" data-toc-modified-id=\"Импорт-необходимых-библиотек-1\"><span class=\"toc-item-num\">1&nbsp;&nbsp;</span>Импорт необходимых библиотек</a></span></li><li><span><a href=\"#Объявление-функций\" data-toc-modified-id=\"Объявление-функций-2\"><span class=\"toc-item-num\">2&nbsp;&nbsp;</span>Объявление функций</a></span><ul class=\"toc-item\"><li><span><a href=\"#Проверка-загрузки\" data-toc-modified-id=\"Проверка-загрузки-2.1\"><span class=\"toc-item-num\">2.1&nbsp;&nbsp;</span>Проверка загрузки</a></span></li><li><span><a href=\"#Очистка-текста\" data-toc-modified-id=\"Очистка-текста-2.2\"><span class=\"toc-item-num\">2.2&nbsp;&nbsp;</span>Очистка текста</a></span></li><li><span><a href=\"#Детекция-языка-текста\" data-toc-modified-id=\"Детекция-языка-текста-2.3\"><span class=\"toc-item-num\">2.3&nbsp;&nbsp;</span>Детекция языка текста</a></span></li><li><span><a href=\"#Извлечение-года-из-кода-isrc\" data-toc-modified-id=\"Извлечение-года-из-кода-isrc-2.4\"><span class=\"toc-item-num\">2.4&nbsp;&nbsp;</span>Извлечение года из кода isrc</a></span></li><li><span><a href=\"#Оставляем-один-жанр\" data-toc-modified-id=\"Оставляем-один-жанр-2.5\"><span class=\"toc-item-num\">2.5&nbsp;&nbsp;</span>Оставляем один жанр</a></span></li><li><span><a href=\"#Предобработка\" data-toc-modified-id=\"Предобработка-2.6\"><span class=\"toc-item-num\">2.6&nbsp;&nbsp;</span>Предобработка</a></span></li></ul></li><li><span><a href=\"#Предобработка-данных\" data-toc-modified-id=\"Предобработка-данных-3\"><span class=\"toc-item-num\">3&nbsp;&nbsp;</span>Предобработка данных</a></span></li></ul></div>"
   ]
  },
  {
   "cell_type": "markdown",
   "id": "0f038c70",
   "metadata": {},
   "source": [
    "# Предварительная обработка данных"
   ]
  },
  {
   "cell_type": "markdown",
   "id": "94adfbfb",
   "metadata": {},
   "source": [
    "## Импорт необходимых библиотек"
   ]
  },
  {
   "cell_type": "code",
   "execution_count": 1,
   "id": "3d187ab2",
   "metadata": {},
   "outputs": [],
   "source": [
    "# импорты из стандартной библиотеки\n",
    "import re\n",
    "import warnings\n",
    "\n",
    "# импорты сторонних библиотек\n",
    "import numpy as np\n",
    "import pandas as pd\n",
    "import pickle\n",
    "from tqdm import tqdm\n",
    "from langdetect import detect, LangDetectException\n",
    "\n",
    "# настройки\n",
    "warnings.filterwarnings(\"ignore\")\n",
    "pd.set_option(\"display.max_columns\", None)\n",
    "pd.set_option(\"display.max_rows\", 100)\n",
    "pd.set_option(\"max_colwidth\", 100)\n",
    "\n",
    "# константы\n",
    "PARSED_DATA_PATH = \"../data/parsed_data/\"\n",
    "PROCESSED_DATA_PATH = \"../data/processed_data/\""
   ]
  },
  {
   "cell_type": "markdown",
   "id": "708a716d",
   "metadata": {},
   "source": [
    "## Объявление функций"
   ]
  },
  {
   "cell_type": "markdown",
   "id": "c3dfbbd2",
   "metadata": {},
   "source": [
    "### Проверка загрузки"
   ]
  },
  {
   "cell_type": "code",
   "execution_count": 2,
   "id": "54cf0892",
   "metadata": {},
   "outputs": [],
   "source": [
    "def display_dataset_info(dataset):\n",
    "    \"\"\"\n",
    "    Функция проверки загрузки: вывод первых 5 строк, информации о датафрейме и наличии дубликатов.\n",
    "\n",
    "    Параметры:\n",
    "\n",
    "     dataset: исследуемый датасет.\n",
    "\n",
    "    Возвращаемое значение:\n",
    "\n",
    "     Первые 5 строк датафрейма, метод .info() и метод .describe(include=\"all\")\n",
    "    \"\"\"\n",
    "    print(\"-\" * 35 + \"SAMPLE\" + \"-\" * 35)\n",
    "    display(dataset.head())\n",
    "    print()\n",
    "    print(\"-\" * 36 + \"INFO\" + \"-\" * 36)\n",
    "    print()\n",
    "    display(dataset.info())\n",
    "    print(\"-\" * 34 + \"DESCRIBE\" + \"-\" * 34)\n",
    "    display(dataset.describe(include=\"all\"))"
   ]
  },
  {
   "cell_type": "markdown",
   "id": "4d817981",
   "metadata": {},
   "source": [
    "### Очистка текста"
   ]
  },
  {
   "cell_type": "code",
   "execution_count": 3,
   "id": "ddec5ad7",
   "metadata": {},
   "outputs": [],
   "source": [
    "def clean_text(text):\n",
    "    \"\"\"\n",
    "    Функция для очистки текста.\n",
    "\n",
    "    Параметры:\n",
    "\n",
    "         text: исходный текст\n",
    "\n",
    "    Возвращаемое значение:\n",
    "\n",
    "         txt: обработанный текст\n",
    "    \"\"\"\n",
    "\n",
    "    # тексте иногда встречаются 1 или две цифры в начале строки - их убираем\n",
    "    if text[0].isdigit() and text[1].isdigit():\n",
    "        text = text[2:]\n",
    "    elif text[0].isdigit():\n",
    "        text = text[1:]\n",
    "\n",
    "    # комменты в квадратных скобках (например [Intro]) меняем на пробел\n",
    "    txt = re.sub(r\"\\[[^\\]]*\\]\", r\" \", text)\n",
    "\n",
    "    # комменты в круглых скобках со звездочками (например (*Whistling*)) меняем на пробел\n",
    "    txt = re.sub(r\"\\([^)]*\\)\", r\" \", txt)\n",
    "\n",
    "    # шаблон поиска и замены между contributors ... lyrics с захватом самих слов и аналогичных\n",
    "    txt = re.sub(\n",
    "        r\"(C|c)ontributor(s|)([^;]*)((L|l)yrics|(V|v)(S|s))\", r\" \", txt\n",
    "    )\n",
    "\n",
    "    # многоточие меняем на точку\n",
    "    txt = re.sub(r\"[\\.]+\", r\".\", txt)\n",
    "\n",
    "    # оставшиеся знаки препинания кроме апострофа на пустую строку\n",
    "    txt = re.sub(r\"[^\\w\\d'\\s]\", r\"\", txt)\n",
    "\n",
    "    # оставшиеся знаки препинания кроме апострофа на пустую строку\n",
    "    txt = re.sub(\"\\n\", r\" \", txt)\n",
    "\n",
    "    # повторяющиеся пробелы меняем на один пробел\n",
    "    txt = re.sub(r\"([ ])\\1\", r\" \", txt)\n",
    "\n",
    "    # обрезка пробелов слева\n",
    "    txt = txt.lstrip()\n",
    "\n",
    "    # обрезка пробелов справа\n",
    "    txt = txt.rstrip()\n",
    "\n",
    "    # текст в нижний регистр\n",
    "    txt = txt.lower()\n",
    "\n",
    "    return txt"
   ]
  },
  {
   "cell_type": "markdown",
   "id": "e9b7fab1",
   "metadata": {},
   "source": [
    "### Детекция языка текста"
   ]
  },
  {
   "cell_type": "code",
   "execution_count": 4,
   "id": "9c636144",
   "metadata": {},
   "outputs": [],
   "source": [
    "def detect_language(text):\n",
    "    \"\"\"\n",
    "    Функция детекции языка текста, применяется к столбцу с текстом песни.\n",
    "    Для детекции используется модуль langdetect.\n",
    "\n",
    "    Параметры:\n",
    "\n",
    "         text: исходный текст\n",
    "\n",
    "    Возвращаемое значение:\n",
    "\n",
    "         - 'UNKNOWN', если язык не определен;\n",
    "         - language, если язык определен;\n",
    "    \"\"\"\n",
    "    try:\n",
    "        language = detect(text).upper()\n",
    "    except LangDetectException:\n",
    "        language = \"UNKNOWN\"  # Язык по умолчанию для случаев, когда определение не удалось\n",
    "    return language"
   ]
  },
  {
   "cell_type": "markdown",
   "id": "59c0bcad",
   "metadata": {},
   "source": [
    "### Извлечение года из кода isrc"
   ]
  },
  {
   "cell_type": "code",
   "execution_count": 5,
   "id": "eeb9fc66",
   "metadata": {},
   "outputs": [],
   "source": [
    "def extract_year_from_isrc(row):\n",
    "    \"\"\"\n",
    "    Функция извлечения года регистрации, применяется к столбцу с кодом isrc.\n",
    "\n",
    "    Параметры:\n",
    "\n",
    "         row: код isrc\n",
    "\n",
    "    Возвращаемое значение:\n",
    "\n",
    "         final_year: год в типе int.\n",
    "\n",
    "    \"\"\"\n",
    "    # список для двухтысячных годов с 0-го по 23-й\n",
    "    twenties = [i for i in range(0, 24)]\n",
    "\n",
    "    # есть коды, в которых присутсвуют дефисы - дефисы убираем, стандарная длина кода 12 символов\n",
    "    if len(row) > 12:\n",
    "        row = row.replace(\"-\", \"\")\n",
    "\n",
    "    # в некоторых кодах год начинается с 5-го символа, в некоторых с 6-го. Извлекаем год в виде двух\n",
    "    # символов, например '00' или \"22\"\n",
    "    if row[5].isalpha():\n",
    "        year = int(row[6:8])\n",
    "    else:\n",
    "        year = int(row[5:7])\n",
    "\n",
    "    final_year = \"\"\n",
    "\n",
    "    # так как год имеет два символа, то как факт можно принять, что с 00 по 23 это двухтысячные годы,\n",
    "    # а остальные это 19 + символы года.\n",
    "    # проверка, что год в двухтысячных\n",
    "    if year in twenties:\n",
    "        year = str(year)\n",
    "\n",
    "        # если год от 0 до 9, то конкатенируем '200' и цифру года, переводив в тип int\n",
    "        if len(year) == 1:\n",
    "            final_year = \"200\" + year\n",
    "            return int(final_year)\n",
    "\n",
    "        # если год от 10, то конкатенируем '20' и цифру года, переводив в тип int\n",
    "        else:\n",
    "            final_year = \"20\" + year\n",
    "            return int(final_year)\n",
    "\n",
    "    # если год от 24 до 99, то конкатенируем '19' и цифру года, переводив в тип int\n",
    "    else:\n",
    "        year = str(year)\n",
    "        final_year = \"19\" + year\n",
    "        return int(final_year)"
   ]
  },
  {
   "cell_type": "markdown",
   "id": "a7e024cc",
   "metadata": {},
   "source": [
    "### Оставляем один жанр"
   ]
  },
  {
   "cell_type": "code",
   "execution_count": 6,
   "id": "879bb5d9",
   "metadata": {},
   "outputs": [],
   "source": [
    "def leave_one_genre(row):\n",
    "    \"\"\"leave_one_genre()\n",
    "\n",
    "    Аргументы:\n",
    "        data (pd.Series): Получает на вход pd.Series с листами жанров\n",
    "\n",
    "    Возвращает:\n",
    "        pd.Series: Возвращает pd.Series с но вместо list теперь простая строка с одним жанром\n",
    "    \"\"\"\n",
    "\n",
    "    return row.split(\", \")[0]\n"
   ]
  },
  {
   "cell_type": "markdown",
   "id": "192ae4fb",
   "metadata": {},
   "source": [
    "### Предобработка"
   ]
  },
  {
   "cell_type": "code",
   "execution_count": 7,
   "id": "b90356ae",
   "metadata": {},
   "outputs": [],
   "source": [
    "def preprocess_dataset(data=None):\n",
    "    \"\"\"\n",
    "    Функция обработки датасета.\n",
    "\n",
    "    Параметры:\n",
    "\n",
    "         data: исходный датасет\n",
    "\n",
    "    Возвращаемое значение:\n",
    "\n",
    "         data: обработанный датасет\n",
    "    \"\"\"\n",
    "    # Удаляем дубликаты по isrc\n",
    "    data = data.drop_duplicates(subset=[\"isrc\"])\n",
    "    print(f\"Дубликаты записей с одинаковым кодом isrc удалены.\")\n",
    "\n",
    "    # Удаляем ненужные столбцы\n",
    "    data = data.drop([\"original_track_id\", \"track_id\", \"language\"], axis=1)\n",
    "\n",
    "    # Удаляем пропуски\n",
    "    print(\n",
    "        f\"Удалены не нужные в дальнейшем столбцы: 'original_track_id', 'track_id', 'language'\"\n",
    "    )\n",
    "\n",
    "    # Удаление пропусков\n",
    "    data = data.dropna()\n",
    "    print(f\"Пропуски удалены.\")\n",
    "\n",
    "    # Очистка текста\n",
    "    tqdm.pandas(desc=\"Очистка текста.\")\n",
    "    data[\"text\"] = data[\"text\"].progress_apply(clean_text)\n",
    "\n",
    "    # Детекция языка по тексту песни\n",
    "    tqdm.pandas(desc=\"Определение языка.\")\n",
    "    data[\"language_text\"] = data[\"text\"].progress_apply(detect_language)\n",
    "\n",
    "    # Вытаскиваем год регистрации трека из isrc\n",
    "    tqdm.pandas(desc=\"Вытаскиваем год регистрации трека из isrc\")\n",
    "    data[\"year\"] = data[\"isrc\"].progress_apply(extract_year_from_isrc)\n",
    "\n",
    "    # Оставляем только один жанр в столбце genres\n",
    "    tqdm.pandas(desc=\"Оставляем один жарн в genres\")\n",
    "    data[\"genres\"] = data[\"genres\"].progress_apply(leave_one_genre)\n",
    "\n",
    "    # Перекодировка таргета в 0 и 1\n",
    "    data[\"track_remake_type\"] = data[\"track_remake_type\"].map(\n",
    "        {\"ORIGINAL\": 1, \"COVER\": 0}\n",
    "    )\n",
    "\n",
    "    # Приведение duration к типу int\n",
    "    data[\"duration\"] = data[\"duration\"].astype(\"int\")\n",
    "\n",
    "    # порядок колонок в удобном виде\n",
    "    cols = [\n",
    "        \"isrc\",\n",
    "        \"title\",\n",
    "        \"genres\",\n",
    "        \"year\",\n",
    "        \"language_text\",\n",
    "        \"dttm\",\n",
    "        \"duration\",\n",
    "        \"text\",\n",
    "        \"track_remake_type\",\n",
    "    ]\n",
    "    data = data[cols]\n",
    "\n",
    "    # категориальные столбцы в тип категорию\n",
    "    cat_features = [\"isrc\", \"title\", \"genres\", \"year\", \"language_text\"]\n",
    "    data[cat_features] = data[cat_features].astype(\"category\")\n",
    "\n",
    "    print(\"Обработка завершена\")\n",
    "\n",
    "    return data"
   ]
  },
  {
   "cell_type": "markdown",
   "id": "563c05ec",
   "metadata": {},
   "source": [
    "## Предобработка данных"
   ]
  },
  {
   "cell_type": "markdown",
   "id": "89edd24e",
   "metadata": {},
   "source": [
    "**Загрузка спаршенных данных**"
   ]
  },
  {
   "cell_type": "code",
   "execution_count": 8,
   "id": "9a532a18",
   "metadata": {},
   "outputs": [],
   "source": [
    "parsed_data = pd.read_pickle(\n",
    "    PARSED_DATA_PATH + \"parsed_data\", compression=\"zip\"\n",
    ")"
   ]
  },
  {
   "cell_type": "markdown",
   "id": "2c0986bf",
   "metadata": {},
   "source": [
    "**Вызов функции `preprocess_dataset` для обработки данных**"
   ]
  },
  {
   "cell_type": "code",
   "execution_count": 9,
   "id": "6e993b74",
   "metadata": {},
   "outputs": [
    {
     "name": "stdout",
     "output_type": "stream",
     "text": [
      "Дубликаты записей с одинаковым кодом isrc удалены.\n",
      "Удалены не нужные в дальнейшем столбцы: 'original_track_id', 'track_id', 'language'\n",
      "Пропуски удалены.\n"
     ]
    },
    {
     "name": "stderr",
     "output_type": "stream",
     "text": [
      "Очистка текста.: 100%|█████████████████████████████████████████████████████████| 71115/71115 [00:33<00:00, 2117.17it/s]\n",
      "Определение языка.: 100%|████████████████████████████████████████████████████████| 71115/71115 [17:40<00:00, 67.06it/s]\n",
      "Вытаскиваем год регистрации трека из isrc: 100%|█████████████████████████████| 71115/71115 [00:00<00:00, 253730.25it/s]\n",
      "Оставляем один жарн в genres: 100%|██████████████████████████████████████████| 71115/71115 [00:00<00:00, 677302.51it/s]\n"
     ]
    },
    {
     "name": "stdout",
     "output_type": "stream",
     "text": [
      "Обработка завершена\n"
     ]
    }
   ],
   "source": [
    "processed_data = preprocess_dataset(data=parsed_data)\n"
   ]
  },
  {
   "cell_type": "markdown",
   "id": "b6067734",
   "metadata": {},
   "source": [
    "**Сохранение обработанного датасета**"
   ]
  },
  {
   "cell_type": "code",
   "execution_count": 10,
   "id": "a0081d42",
   "metadata": {},
   "outputs": [],
   "source": [
    "processed_data.to_pickle(\n",
    "    PROCESSED_DATA_PATH + \"processed_data\", compression=\"zip\"\n",
    ")"
   ]
  },
  {
   "cell_type": "code",
   "execution_count": null,
   "id": "f458638a",
   "metadata": {},
   "outputs": [],
   "source": []
  }
 ],
 "metadata": {
  "kernelspec": {
   "display_name": "Python 3",
   "language": "python",
   "name": "python3"
  },
  "language_info": {
   "codemirror_mode": {
    "name": "ipython",
    "version": 3
   },
   "file_extension": ".py",
   "mimetype": "text/x-python",
   "name": "python",
   "nbconvert_exporter": "python",
   "pygments_lexer": "ipython3",
   "version": "3.8.8"
  },
  "toc": {
   "base_numbering": 1,
   "nav_menu": {},
   "number_sections": true,
   "sideBar": true,
   "skip_h1_title": true,
   "title_cell": "Содержание",
   "title_sidebar": "Contents",
   "toc_cell": true,
   "toc_position": {},
   "toc_section_display": true,
   "toc_window_display": true
  }
 },
 "nbformat": 4,
 "nbformat_minor": 5
}
