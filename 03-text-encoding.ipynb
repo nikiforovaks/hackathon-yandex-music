{
 "cells": [
  {
   "cell_type": "markdown",
   "id": "f5d40bfe",
   "metadata": {
    "toc": true
   },
   "source": [
    "<h1>Содержание<span class=\"tocSkip\"></span></h1>\n",
    "<div class=\"toc\"><ul class=\"toc-item\"><li><span><a href=\"#Импорт-необходимых-библиотек\" data-toc-modified-id=\"Импорт-необходимых-библиотек-1\"><span class=\"toc-item-num\">1&nbsp;&nbsp;</span>Импорт необходимых библиотек</a></span></li><li><span><a href=\"#Кодирование-текстов\" data-toc-modified-id=\"Кодирование-текстов-2\"><span class=\"toc-item-num\">2&nbsp;&nbsp;</span>Кодирование текстов</a></span></li></ul></div>"
   ]
  },
  {
   "cell_type": "markdown",
   "id": "47be4c98",
   "metadata": {},
   "source": [
    "# Кодирование текстов песен в эмбеддинги"
   ]
  },
  {
   "cell_type": "markdown",
   "id": "3d8c9ac4",
   "metadata": {},
   "source": [
    "## Импорт необходимых библиотек"
   ]
  },
  {
   "cell_type": "code",
   "execution_count": 1,
   "id": "261774a1",
   "metadata": {},
   "outputs": [],
   "source": [
    "# импорты из стандартной библиотеки\n",
    "import warnings\n",
    "\n",
    "# импорты сторонних библиотек\n",
    "import numpy as np\n",
    "import pandas as pd\n",
    "import torch\n",
    "import pickle\n",
    "\n",
    "# импорт библиотек текущего модуля\n",
    "from sentence_transformers import SentenceTransformer, util\n",
    "\n",
    "# константы\n",
    "RANDOM_STATE = 12345\n",
    "PROCESSED_DATA_PATH = \"../data/processed_data/\"\n",
    "MODEL_PATH = \"sentence-transformers/LaBSE\"\n",
    "\n",
    "# настройки\n",
    "warnings.filterwarnings(\"ignore\")\n",
    "torch.manual_seed(RANDOM_STATE)\n",
    "np.random.seed(RANDOM_STATE)\n",
    "device = torch.device(\"cuda\" if torch.cuda.is_available() else \"cpu\")\n"
   ]
  },
  {
   "cell_type": "markdown",
   "id": "766493b7",
   "metadata": {},
   "source": [
    "## Кодирование текстов"
   ]
  },
  {
   "cell_type": "markdown",
   "id": "4b1b7294",
   "metadata": {},
   "source": [
    "**Загрузка предобработанного датасета**"
   ]
  },
  {
   "cell_type": "code",
   "execution_count": 2,
   "id": "1d17d8a4",
   "metadata": {},
   "outputs": [],
   "source": [
    "processed_data = pd.read_pickle(\n",
    "    PROCESSED_DATA_PATH + \"processed_data\", compression=\"zip\"\n",
    ")"
   ]
  },
  {
   "cell_type": "markdown",
   "id": "6a8cc41d",
   "metadata": {},
   "source": [
    "**Инициализация модели**"
   ]
  },
  {
   "cell_type": "code",
   "execution_count": 3,
   "id": "2117ccb3",
   "metadata": {},
   "outputs": [],
   "source": [
    "model = SentenceTransformer(MODEL_PATH)\n"
   ]
  },
  {
   "cell_type": "markdown",
   "id": "b6ea4dfd",
   "metadata": {},
   "source": [
    "**Кодирование тектов в эмбеддинги**"
   ]
  },
  {
   "cell_type": "code",
   "execution_count": 4,
   "id": "fa3314e2",
   "metadata": {},
   "outputs": [],
   "source": [
    "embedding_all_texts = model.encode(\n",
    "    processed_data[\"text\"].tolist(),\n",
    "    show_progress_bar=True,\n",
    "    device=device,\n",
    "    batch_size=64,\n",
    ")"
   ]
  },
  {
   "cell_type": "markdown",
   "id": "f9b85c76",
   "metadata": {},
   "source": [
    "**Сохранение эмбеддингов в файл**"
   ]
  },
  {
   "cell_type": "code",
   "execution_count": 5,
   "id": "9747734b",
   "metadata": {},
   "outputs": [],
   "source": [
    "with open(PROCESSED_DATA_PATH + \"embedding_all_texts.pickle\", \"wb\") as f:\n",
    "    pickle.dump(embedding_all_texts, f)"
   ]
  },
  {
   "cell_type": "code",
   "execution_count": null,
   "id": "fa88e8bd",
   "metadata": {},
   "outputs": [],
   "source": []
  }
 ],
 "metadata": {
  "kernelspec": {
   "display_name": "Python 3",
   "language": "python",
   "name": "python3"
  },
  "language_info": {
   "codemirror_mode": {
    "name": "ipython",
    "version": 3
   },
   "file_extension": ".py",
   "mimetype": "text/x-python",
   "name": "python",
   "nbconvert_exporter": "python",
   "pygments_lexer": "ipython3",
   "version": "3.8.8"
  },
  "toc": {
   "base_numbering": 1,
   "nav_menu": {},
   "number_sections": true,
   "sideBar": true,
   "skip_h1_title": true,
   "title_cell": "Содержание",
   "title_sidebar": "Contents",
   "toc_cell": true,
   "toc_position": {},
   "toc_section_display": true,
   "toc_window_display": true
  }
 },
 "nbformat": 4,
 "nbformat_minor": 5
}
